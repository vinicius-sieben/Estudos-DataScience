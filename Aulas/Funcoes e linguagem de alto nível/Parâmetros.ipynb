{
 "cells": [
  {
   "attachments": {},
   "cell_type": "markdown",
   "metadata": {},
   "source": [
    "# Parâmetros"
   ]
  },
  {
   "cell_type": "code",
   "execution_count": 5,
   "metadata": {},
   "outputs": [],
   "source": [
    "def saudacao(nome):\n",
    "    return print(f'Olá {nome}!')"
   ]
  },
  {
   "cell_type": "code",
   "execution_count": 7,
   "metadata": {},
   "outputs": [
    {
     "name": "stdout",
     "output_type": "stream",
     "text": [
      "Olá Vinícius!\n"
     ]
    }
   ],
   "source": [
    "saudacao('Vinícius')"
   ]
  },
  {
   "cell_type": "code",
   "execution_count": 9,
   "metadata": {},
   "outputs": [],
   "source": [
    "def verifica_se_pode_dirigir(idade):\n",
    "    if idade >= 18:\n",
    "        return print('Tem permissão para dirigir.')\n",
    "    return print('Não tem permissão para dirigir.')"
   ]
  },
  {
   "cell_type": "code",
   "execution_count": 13,
   "metadata": {},
   "outputs": [
    {
     "name": "stdout",
     "output_type": "stream",
     "text": [
      "Não tem permissão para dirigir.\n"
     ]
    }
   ],
   "source": [
    "verifica_se_pode_dirigir(17)"
   ]
  },
  {
   "cell_type": "code",
   "execution_count": 14,
   "metadata": {},
   "outputs": [],
   "source": [
    "def verifica_se_pode_dirigir_sem_parametro():\n",
    "    idade = input('Qual sua idade? ')\n",
    "    idade = int(idade)\n",
    "    if idade >= 18:\n",
    "        return print('Tem permissão para dirigir.')\n",
    "    return print('Não tem permissão para dirigir.')"
   ]
  },
  {
   "cell_type": "code",
   "execution_count": 16,
   "metadata": {},
   "outputs": [
    {
     "name": "stdout",
     "output_type": "stream",
     "text": [
      "Tem permissão para dirigir.\n"
     ]
    }
   ],
   "source": [
    "verifica_se_pode_dirigir_sem_parametro()"
   ]
  }
 ],
 "metadata": {
  "kernelspec": {
   "display_name": "Python 3",
   "language": "python",
   "name": "python3"
  },
  "language_info": {
   "codemirror_mode": {
    "name": "ipython",
    "version": 3
   },
   "file_extension": ".py",
   "mimetype": "text/x-python",
   "name": "python",
   "nbconvert_exporter": "python",
   "pygments_lexer": "ipython3",
   "version": "3.11.0"
  },
  "orig_nbformat": 4,
  "vscode": {
   "interpreter": {
    "hash": "183448da90382abdc1cec0404d93ee972b750356ed1b2652557a86e71f8b1cb1"
   }
  }
 },
 "nbformat": 4,
 "nbformat_minor": 2
}
